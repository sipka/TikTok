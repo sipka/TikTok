{
 "cells": [
  {
   "cell_type": "markdown",
   "metadata": {},
   "source": [
    "# TikTok data parsing"
   ]
  },
  {
   "cell_type": "code",
   "execution_count": 1,
   "metadata": {},
   "outputs": [],
   "source": [
    "# library imports\n",
    "import pandas as pd\n",
    "import glob, os"
   ]
  },
  {
   "cell_type": "code",
   "execution_count": 2,
   "metadata": {},
   "outputs": [],
   "source": [
    "# functions\n",
    "\n",
    "# get info about music track\n",
    "def parse_music(s):\n",
    "    music_list = s['music'][1:-1].split(', ')\n",
    "    \n",
    "    for item in music_list:\n",
    "        if 'id' in item[:item.find(':')]:\n",
    "            s['music_id'] = item[item.find('\\'id\\': \\'')+len('\\'id\\': \\'') : -1]\n",
    "        if 'title' in item[:item.find(':')]:\n",
    "            s['music_title'] = item[item.find('\\'title\\': \\'')+len('\\'title\\': \\'') : -1]\n",
    "        if 'authorName' in item[:item.find(':')]:\n",
    "            s['music_author'] = item[item.find('\\'authorName\\': \\'')+len('\\'authorName\\': \\'') : -1]\n",
    "        if 'original' in item[:item.find(':')]:\n",
    "            s['music_original'] = item[item.find('\\'original\\': \\'')+len('\\'original\\': \\'') : ]   \n",
    "            \n",
    "    return s\n",
    "\n",
    "\n",
    "# extract hashtags used\n",
    "def parse_hashtags(s):\n",
    "    hashtag_list_of_lists = s['hashtags'][2:-2].split('}, {')\n",
    "    \n",
    "    reslist = []\n",
    "    \n",
    "    for hashtag_list in hashtag_list_of_lists:\n",
    "        for item in hashtag_list.split(', '):\n",
    "            if 'title' in item[:item.find(':')]:\n",
    "                reslist.append(item[item.find('\\'title\\': \\'')+len('\\'title\\': \\'') : -1])\n",
    "                \n",
    "    if 'duet' in reslist:\n",
    "        s['duet_used'] = True\n",
    "        \n",
    "    s['nr_hashtags'] = len(reslist)\n",
    "    s['hashtags_used'] = ', '.join(reslist)\n",
    "    \n",
    "    return s\n",
    "\n",
    "\n",
    "# extract tagged users\n",
    "def parse_extras(s):\n",
    "    extras_list_of_lists = s['extras'][2:-2].split('}, {')\n",
    "    \n",
    "    tagged_users = []\n",
    "    reslist = []\n",
    "    \n",
    "    for extras_list in extras_list_of_lists:\n",
    "        for item in extras_list.split(', '):\n",
    "            if 'userId' in item[:item.find(':')]:\n",
    "                if len(item) > 12:\n",
    "                    tagged_users.append(extras_list)\n",
    "    \n",
    "    for tagged_user in tagged_users:\n",
    "        for item in tagged_user.split(', '):\n",
    "            if 'userId' in item[:item.find(':')]:\n",
    "                reslist.append(item[item.find('\\'userId\\': \\'')+len('\\'userId\\': \\'') : -1])\n",
    "    \n",
    "    s['nr_tags'] = len(reslist)\n",
    "    s['tagged_users'] = ', '.join(reslist)\n",
    "    \n",
    "    return s\n",
    "\n",
    "# function that calls all of the other functions\n",
    "def parse_table(df, hashtagname):\n",
    "    df['music_id'] = ''\n",
    "    df['music_title'] = ''\n",
    "    df['music_author'] = ''\n",
    "    df['music_original'] = ''\n",
    "    df['hashtags_used'] = ''\n",
    "    df['nr_hashtags'] = 0\n",
    "    df['duet_used'] = False\n",
    "    df['tagged_users'] = ''\n",
    "    df['nr_tags'] = 0\n",
    "\n",
    "    df = df.apply(parse_music, axis=1)\n",
    "    df = df.apply(parse_hashtags, axis=1)\n",
    "    df = df.apply(parse_extras, axis=1)\n",
    "    \n",
    "    del df['hashtags']\n",
    "    del df['extras']\n",
    "    del df['music']\n",
    "    \n",
    "    df['obtained_via'] = hashtagname\n",
    "    df['rank'] = df.index\n",
    "    \n",
    "    return df"
   ]
  },
  {
   "cell_type": "code",
   "execution_count": 3,
   "metadata": {},
   "outputs": [
    {
     "name": "stdout",
     "output_type": "stream",
     "text": [
      "blacklivesmattermovement_videos.csv\n",
      "alllivesmatterwhenblacklivesmatter_videos.csv\n",
      "blacklivesmatter_videos.csv\n",
      "bluelivesmatter_videos.csv\n",
      "all_videos.csv\n",
      "blacklivesmatterally_videos.csv\n",
      "alllivesmattertrump2020_videos.csv\n",
      "alllivesmatternotjustblacklives_videos.csv\n",
      "blm_videos.csv\n",
      "georgefloyd_videos.csv\n",
      "justiceforgeorgefloyd_videos.csv\n",
      "babylivesmatter_videos.csv\n",
      "backtheblue_videos.csv\n",
      "policelivesmatter_videos.csv\n",
      "breonnataylor_videos.csv\n",
      "alllivesmatter_videos.csv\n"
     ]
    }
   ],
   "source": [
    "# which files should I parse?\n",
    "for file in os.listdir('/Users/andreasipka/Desktop/TikTok'):\n",
    "    if file.endswith('_videos.csv'):        \n",
    "        print(file)"
   ]
  },
  {
   "cell_type": "code",
   "execution_count": 4,
   "metadata": {},
   "outputs": [
    {
     "name": "stdout",
     "output_type": "stream",
     "text": [
      "Number of blacklivesmattermovement videos:  1975\n"
     ]
    }
   ],
   "source": [
    "blacklivesmattermovement = pd.read_csv('blacklivesmattermovement_videos.csv')\n",
    "blacklivesmattermovement = parse_table(blacklivesmattermovement, 'blacklivesmattermovement')\n",
    "print('Number of blacklivesmattermovement videos: ', blacklivesmattermovement.shape[0])"
   ]
  },
  {
   "cell_type": "code",
   "execution_count": 5,
   "metadata": {},
   "outputs": [
    {
     "name": "stdout",
     "output_type": "stream",
     "text": [
      "Number of alllivesmatterwhenblacklivesmatter videos:  1973\n"
     ]
    }
   ],
   "source": [
    "alllivesmatterwhenblacklivesmatter = pd.read_csv('alllivesmatterwhenblacklivesmatter_videos.csv')\n",
    "alllivesmatterwhenblacklivesmatter = parse_table(alllivesmatterwhenblacklivesmatter, 'alllivesmatterwhenblacklivesmatter')\n",
    "print('Number of alllivesmatterwhenblacklivesmatter videos: ', alllivesmatterwhenblacklivesmatter.shape[0])"
   ]
  },
  {
   "cell_type": "code",
   "execution_count": 6,
   "metadata": {},
   "outputs": [
    {
     "name": "stdout",
     "output_type": "stream",
     "text": [
      "Number of blacklivesmatter videos:  1956\n"
     ]
    }
   ],
   "source": [
    "blacklivesmatter = pd.read_csv('blacklivesmatter_videos.csv')\n",
    "blacklivesmatter = parse_table(blacklivesmatter, 'blacklivesmatter')\n",
    "print('Number of blacklivesmatter videos: ', blacklivesmatter.shape[0])"
   ]
  },
  {
   "cell_type": "code",
   "execution_count": 7,
   "metadata": {},
   "outputs": [
    {
     "name": "stdout",
     "output_type": "stream",
     "text": [
      "Number of blacklivesmatterally videos:  197\n"
     ]
    }
   ],
   "source": [
    "blacklivesmatterally = pd.read_csv('blacklivesmatterally_videos.csv')\n",
    "blacklivesmatterally = parse_table(blacklivesmatterally, 'blacklivesmatterally')\n",
    "print('Number of blacklivesmatterally videos: ', blacklivesmatterally.shape[0])"
   ]
  },
  {
   "cell_type": "code",
   "execution_count": 8,
   "metadata": {},
   "outputs": [
    {
     "name": "stdout",
     "output_type": "stream",
     "text": [
      "Number of alllivesmatternotjustblacklives videos:  755\n"
     ]
    }
   ],
   "source": [
    "alllivesmatternotjustblacklives = pd.read_csv('alllivesmatternotjustblacklives_videos.csv')\n",
    "alllivesmatternotjustblacklives = parse_table(alllivesmatternotjustblacklives, 'alllivesmatternotjustblacklives')\n",
    "print('Number of alllivesmatternotjustblacklives videos: ', alllivesmatternotjustblacklives.shape[0])"
   ]
  },
  {
   "cell_type": "code",
   "execution_count": 9,
   "metadata": {},
   "outputs": [
    {
     "name": "stdout",
     "output_type": "stream",
     "text": [
      "Number of blm videos:  1894\n"
     ]
    }
   ],
   "source": [
    "blm = pd.read_csv('blm_videos.csv')\n",
    "blm = parse_table(blm, 'blm')\n",
    "print('Number of blm videos: ', blm.shape[0])"
   ]
  },
  {
   "cell_type": "code",
   "execution_count": 10,
   "metadata": {},
   "outputs": [
    {
     "name": "stdout",
     "output_type": "stream",
     "text": [
      "Number of georgefloyd videos:  1992\n"
     ]
    }
   ],
   "source": [
    "georgefloyd = pd.read_csv('georgefloyd_videos.csv')\n",
    "georgefloyd = parse_table(georgefloyd, 'georgefloyd')\n",
    "print('Number of georgefloyd videos: ', georgefloyd.shape[0])"
   ]
  },
  {
   "cell_type": "code",
   "execution_count": 11,
   "metadata": {},
   "outputs": [
    {
     "name": "stdout",
     "output_type": "stream",
     "text": [
      "Number of justiceforgeorgefloyd videos:  1997\n"
     ]
    }
   ],
   "source": [
    "justiceforgeorgefloyd = pd.read_csv('justiceforgeorgefloyd_videos.csv')\n",
    "justiceforgeorgefloyd = parse_table(justiceforgeorgefloyd, 'justiceforgeorgefloyd')\n",
    "print('Number of justiceforgeorgefloyd videos: ', justiceforgeorgefloyd.shape[0])"
   ]
  },
  {
   "cell_type": "code",
   "execution_count": 12,
   "metadata": {},
   "outputs": [
    {
     "name": "stdout",
     "output_type": "stream",
     "text": [
      "Number of bluelivesmatter videos:  1745\n"
     ]
    }
   ],
   "source": [
    "# probably skip this, unless looking at anti abortion stuff\n",
    "bluelivesmatter = pd.read_csv('bluelivesmatter_videos.csv')\n",
    "bluelivesmatter = parse_table(bluelivesmatter, 'babylivesmatter')\n",
    "print('Number of bluelivesmatter videos: ', bluelivesmatter.shape[0])"
   ]
  },
  {
   "cell_type": "code",
   "execution_count": 13,
   "metadata": {},
   "outputs": [
    {
     "name": "stdout",
     "output_type": "stream",
     "text": [
      "Number of breonnataylor videos:  1958\n"
     ]
    }
   ],
   "source": [
    "breonnataylor = pd.read_csv('breonnataylor_videos.csv')\n",
    "breonnataylor = parse_table(breonnataylor, 'breonnataylor')\n",
    "print('Number of breonnataylor videos: ', breonnataylor.shape[0])"
   ]
  },
  {
   "cell_type": "code",
   "execution_count": 14,
   "metadata": {},
   "outputs": [
    {
     "name": "stdout",
     "output_type": "stream",
     "text": [
      "Number of alllivesmatter videos:  1917\n"
     ]
    }
   ],
   "source": [
    "alllivesmatter = pd.read_csv('alllivesmatter_videos.csv')\n",
    "alllivesmatter = parse_table(alllivesmatter, 'alllivesmatter')\n",
    "print('Number of alllivesmatter videos: ', alllivesmatter.shape[0])"
   ]
  },
  {
   "cell_type": "code",
   "execution_count": 15,
   "metadata": {},
   "outputs": [
    {
     "name": "stdout",
     "output_type": "stream",
     "text": [
      "Number of alllivesmattertrump2020 videos:  1969\n"
     ]
    }
   ],
   "source": [
    "alllivesmattertrump2020 = pd.read_csv('alllivesmattertrump2020_videos.csv')\n",
    "alllivesmattertrump2020 = parse_table(alllivesmattertrump2020, 'alllivesmattertrump2020')\n",
    "print('Number of alllivesmattertrump2020 videos: ', alllivesmattertrump2020.shape[0])"
   ]
  },
  {
   "cell_type": "code",
   "execution_count": 16,
   "metadata": {},
   "outputs": [
    {
     "name": "stdout",
     "output_type": "stream",
     "text": [
      "Number of backtheblue videos:  1810\n"
     ]
    }
   ],
   "source": [
    "backtheblue = pd.read_csv('backtheblue_videos.csv')\n",
    "backtheblue = parse_table(backtheblue, 'backtheblue')\n",
    "print('Number of backtheblue videos: ', backtheblue.shape[0])"
   ]
  },
  {
   "cell_type": "code",
   "execution_count": 17,
   "metadata": {},
   "outputs": [
    {
     "name": "stdout",
     "output_type": "stream",
     "text": [
      "Number of policelivesmatter videos:  1636\n"
     ]
    }
   ],
   "source": [
    "policelivesmatter = pd.read_csv('policelivesmatter_videos.csv')\n",
    "policelivesmatter = parse_table(policelivesmatter, 'policelivesmatter')\n",
    "print('Number of policelivesmatter videos: ', policelivesmatter.shape[0])"
   ]
  },
  {
   "cell_type": "code",
   "execution_count": 18,
   "metadata": {},
   "outputs": [],
   "source": [
    "# label hashtags as pro or against to track easily\n",
    "\n",
    "# pro BLM hashtags\n",
    "blacklivesmatter['leaning'] = 'pro'\n",
    "blacklivesmattermovement['leaning'] = 'pro'\n",
    "alllivesmatterwhenblacklivesmatter['leaning'] = 'pro'\n",
    "blacklivesmatterally['leaning'] = 'pro'\n",
    "blm['leaning'] = 'pro'\n",
    "georgefloyd['leaning'] = 'pro'\n",
    "justiceforgeorgefloyd['leaning'] = 'pro'\n",
    "breonnataylor['leaning'] = 'pro'\n",
    "\n",
    "# against BLM hashtags\n",
    "alllivesmatter['leaning'] = 'con'\n",
    "alllivesmatternotjustblacklives['leaning'] = 'con'\n",
    "bluelivesmatter['leaning'] = 'con'\n",
    "alllivesmattertrump2020['leaning'] = 'con'\n",
    "backtheblue['leaning'] = 'con'\n",
    "policelivesmatter['leaning'] = 'con'"
   ]
  },
  {
   "cell_type": "code",
   "execution_count": 19,
   "metadata": {},
   "outputs": [],
   "source": [
    "# Merge all the individual tables into pro and con camp\n",
    "\n",
    "merged_pro = pd.concat([blacklivesmatter, blacklivesmattermovement, alllivesmatterwhenblacklivesmatter,\n",
    "      blacklivesmatterally, blm, georgefloyd, justiceforgeorgefloyd, breonnataylor])\n",
    "\n",
    "merged_con = pd.concat([alllivesmatter, alllivesmatternotjustblacklives, bluelivesmatter, \n",
    "                        alllivesmattertrump2020, backtheblue, policelivesmatter])\n",
    "\n",
    "all_videos = pd.concat([merged_pro, merged_con])"
   ]
  },
  {
   "cell_type": "code",
   "execution_count": 20,
   "metadata": {},
   "outputs": [
    {
     "name": "stdout",
     "output_type": "stream",
     "text": [
      "Number of unique pro videos:  12339\n",
      "Number of unique con videos:  9006\n",
      "Total unique videos:  21202\n",
      "Total unique users:  13291\n",
      "Total videos with duet hashtag:  1736\n",
      "Total videos with a tagged used:  4435\n",
      "My best approximation for actual number of duets:  1548\n"
     ]
    }
   ],
   "source": [
    "print('Number of unique pro videos: ', len(merged_pro.video_id.unique()))\n",
    "print('Number of unique con videos: ', len(merged_con.video_id.unique()))\n",
    "print('Total unique videos: ', len(all_videos.video_id.unique()))\n",
    "print('Total unique users: ', len(all_videos.user_id.unique()))\n",
    "print('Total videos with duet hashtag: ', all_videos[all_videos.duet_used].shape[0])\n",
    "print('Total videos with a tagged used: ', all_videos[all_videos.nr_tags > 0].shape[0])\n",
    "print('My best approximation for actual number of duets: ', all_videos[(all_videos.nr_tags > 0) & \n",
    "                                                                       (all_videos.duet_used)].shape[0])"
   ]
  },
  {
   "cell_type": "code",
   "execution_count": 21,
   "metadata": {},
   "outputs": [],
   "source": [
    "# Offload to CSV\n",
    "all_videos.to_csv('all_videos.csv')\n",
    "\n",
    "all_videos[(all_videos.nr_tags > 0) & (all_videos.duet_used)].to_csv('duets_only.csv')"
   ]
  },
  {
   "cell_type": "code",
   "execution_count": 43,
   "metadata": {},
   "outputs": [
    {
     "data": {
      "text/html": [
       "<div>\n",
       "<style scoped>\n",
       "    .dataframe tbody tr th:only-of-type {\n",
       "        vertical-align: middle;\n",
       "    }\n",
       "\n",
       "    .dataframe tbody tr th {\n",
       "        vertical-align: top;\n",
       "    }\n",
       "\n",
       "    .dataframe thead th {\n",
       "        text-align: right;\n",
       "    }\n",
       "</style>\n",
       "<table border=\"1\" class=\"dataframe\">\n",
       "  <thead>\n",
       "    <tr style=\"text-align: right;\">\n",
       "      <th></th>\n",
       "      <th>user_id</th>\n",
       "      <th>user_name</th>\n",
       "      <th>user_signature</th>\n",
       "      <th>user_verified</th>\n",
       "      <th>video_id</th>\n",
       "      <th>video_desc</th>\n",
       "      <th>video_time</th>\n",
       "      <th>privateItem</th>\n",
       "      <th>duetEnabled</th>\n",
       "      <th>stitchEnabled</th>\n",
       "      <th>...</th>\n",
       "      <th>music_author</th>\n",
       "      <th>music_original</th>\n",
       "      <th>hashtags_used</th>\n",
       "      <th>nr_hashtags</th>\n",
       "      <th>duet_used</th>\n",
       "      <th>tagged_users</th>\n",
       "      <th>nr_tags</th>\n",
       "      <th>obtained_via</th>\n",
       "      <th>rank</th>\n",
       "      <th>leaning</th>\n",
       "    </tr>\n",
       "  </thead>\n",
       "  <tbody>\n",
       "  </tbody>\n",
       "</table>\n",
       "<p>0 rows × 43 columns</p>\n",
       "</div>"
      ],
      "text/plain": [
       "Empty DataFrame\n",
       "Columns: [user_id, user_name, user_signature, user_verified, video_id, video_desc, video_time, privateItem, duetEnabled, stitchEnabled, shareEnabled, isAd, video_length, video_link, challenges_id, challenges_title, challenges_desc, textExtra_awemeId, textExtra_userId, textExtra_userUniqueId, stats_likes, stats_shares, stats_comments, stats_plays, authorstats_following, authorstats_followers, authorstats_heart, authorstats_videos, authorstats_diggs, authorstats_hearts, raw, music_id, music_title, music_author, music_original, hashtags_used, nr_hashtags, duet_used, tagged_users, nr_tags, obtained_via, rank, leaning]\n",
       "Index: []\n",
       "\n",
       "[0 rows x 43 columns]"
      ]
     },
     "execution_count": 43,
     "metadata": {},
     "output_type": "execute_result"
    }
   ],
   "source": [
    "all_videos[all_videos.raw.str.contains('duetFromId')]"
   ]
  }
 ],
 "metadata": {
  "kernelspec": {
   "display_name": "Python 3",
   "language": "python",
   "name": "python3"
  },
  "language_info": {
   "codemirror_mode": {
    "name": "ipython",
    "version": 3
   },
   "file_extension": ".py",
   "mimetype": "text/x-python",
   "name": "python",
   "nbconvert_exporter": "python",
   "pygments_lexer": "ipython3",
   "version": "3.8.3"
  }
 },
 "nbformat": 4,
 "nbformat_minor": 4
}
